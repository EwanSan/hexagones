{
 "cells": [
  {
   "cell_type": "code",
   "execution_count": 1,
   "metadata": {},
   "outputs": [],
   "source": [
    "import numpy as np\n",
    "import matplotlib.pyplot as plt\n",
    "from string import ascii_uppercase as alc\n",
    "from random import randint\n",
    "from numpy.lib.stride_tricks import sliding_window_view as swv"
   ]
  },
  {
   "cell_type": "code",
   "execution_count": 2,
   "metadata": {},
   "outputs": [
    {
     "data": {
      "text/plain": [
       "array([['', '', 'A', '', ''],\n",
       "       ['', 'B', '', 'C', ''],\n",
       "       ['D', '', 'E', '', 'F'],\n",
       "       ['', 'G', '', 'H', ''],\n",
       "       ['', '', 'I', '', '']], dtype='<U1')"
      ]
     },
     "execution_count": 2,
     "metadata": {},
     "output_type": "execute_result"
    }
   ],
   "source": [
    "SMALL_DIAMOND = np.array(\n",
    "    [\n",
    "        ['', '', 'A', '', ''],\n",
    "        ['', 'B', '', 'C', ''],\n",
    "        ['D', '', 'E', '', 'F'],\n",
    "        ['', 'G', '', 'H', ''],\n",
    "        ['', '', 'I', '', '']\n",
    "    ]\n",
    ")\n",
    "SMALL_DIAMOND"
   ]
  },
  {
   "cell_type": "code",
   "execution_count": 3,
   "metadata": {},
   "outputs": [
    {
     "data": {
      "text/plain": [
       "array([['', '', 'A', '', 'B', '', 'C', '', ''],\n",
       "       ['', 'D', '', 'E', '', 'F', '', 'G', ''],\n",
       "       ['H', '', 'I', '', 'J', '', 'K', '', 'L'],\n",
       "       ['', 'M', '', 'N', '', 'O', '', 'P', ''],\n",
       "       ['', '', 'Q', '', 'R', '', 'S', '', '']], dtype='<U1')"
      ]
     },
     "execution_count": 3,
     "metadata": {},
     "output_type": "execute_result"
    }
   ],
   "source": [
    "REG_DIAMOND = np.array(\n",
    "    [\n",
    "        ['', '', 'A', '', 'B', '', 'C', '', ''],\n",
    "        ['', 'D', '', 'E', '', 'F', '', 'G', ''],\n",
    "        ['H', '', 'I', '', 'J', '', 'K', '', 'L'],\n",
    "        ['', 'M', '', 'N', '', 'O', '', 'P', ''],\n",
    "        ['', '', 'Q', '', 'R', '', 'S', '', '']\n",
    "    ]\n",
    ")\n",
    "REG_DIAMOND"
   ]
  },
  {
   "cell_type": "code",
   "execution_count": 8,
   "metadata": {},
   "outputs": [],
   "source": [
    "class Diamond:\n",
    "    def __init__(self, size='regular', minimum=1, maximum=6):\n",
    "        self.size = size\n",
    "        self.letter_matrix = SMALL_DIAMOND if self.size == 'small' else REG_DIAMOND\n",
    "        ### Building number matrix\n",
    "        nbm = np.zeros(self.letter_matrix.shape, dtype=np.uint8)\n",
    "        fill_boolean = self.letter_matrix != ''\n",
    "        nbm[fill_boolean] = np.random.randint(minimum, maximum, fill_boolean.sum())\n",
    "        self.number_matrix = nbm\n",
    "        self.goal = self.get_goal()\n",
    "    \n",
    "    def print_letter_matrix(self):\n",
    "        print(self.letter_matrix)\n",
    "    \n",
    "    def print_number_matrix(self):\n",
    "        print(self.number_matrix)\n",
    "    \n",
    "    def get_goal(self):\n",
    "        windows = swv(self.number_matrix, (3,3))\n",
    "        diags = np.vstack([\n",
    "            np.diagonal(windows, axis1=-2, axis2=-1).reshape(-1,3),\n",
    "            np.diagonal(windows[..., ::-1], axis1=-2, axis2=-1).reshape(-1,3)\n",
    "        ]).tolist()\n",
    "        diags = np.array([d for d in diags if not 0 in d])\n",
    "        return np.random.choice(diags.sum(axis=1))\n",
    "    \n",
    "    def guess(self, letters):\n",
    "        cumsum = 0\n",
    "        for letter in letters:\n",
    "            idx = np.argwhere(self.letter_matrix==letter)[0]\n",
    "            cumsum += self.number_matrix[idx[0], idx[1]]\n",
    "        if cumsum == self.goal:\n",
    "            return 1\n",
    "        else:\n",
    "            return -1"
   ]
  },
  {
   "cell_type": "code",
   "execution_count": 9,
   "metadata": {},
   "outputs": [
    {
     "name": "stdout",
     "output_type": "stream",
     "text": [
      "[[0 0 4 0 2 0 3 0 0]\n",
      " [0 1 0 1 0 3 0 4 0]\n",
      " [5 0 3 0 2 0 5 0 2]\n",
      " [0 2 0 1 0 5 0 1 0]\n",
      " [0 0 4 0 4 0 5 0 0]]\n",
      "[['' '' 'A' '' 'B' '' 'C' '' '']\n",
      " ['' 'D' '' 'E' '' 'F' '' 'G' '']\n",
      " ['H' '' 'I' '' 'J' '' 'K' '' 'L']\n",
      " ['' 'M' '' 'N' '' 'O' '' 'P' '']\n",
      " ['' '' 'Q' '' 'R' '' 'S' '' '']]\n",
      "6\n"
     ]
    }
   ],
   "source": [
    "diamond = Diamond()\n",
    "diamond.print_number_matrix()\n",
    "diamond.print_letter_matrix()\n",
    "print(diamond.goal)"
   ]
  },
  {
   "cell_type": "code",
   "execution_count": 12,
   "metadata": {},
   "outputs": [
    {
     "data": {
      "text/plain": [
       "1"
      ]
     },
     "execution_count": 12,
     "metadata": {},
     "output_type": "execute_result"
    }
   ],
   "source": [
    "diamond.guess('BEI')"
   ]
  },
  {
   "cell_type": "code",
   "execution_count": 63,
   "metadata": {},
   "outputs": [
    {
     "data": {
      "text/plain": [
       "1"
      ]
     },
     "execution_count": 63,
     "metadata": {},
     "output_type": "execute_result"
    }
   ],
   "source": [
    "a[np.argwhere(b=='A')[0][0], np.argwhere(b=='A')[0][1]]"
   ]
  },
  {
   "cell_type": "code",
   "execution_count": 54,
   "metadata": {},
   "outputs": [
    {
     "data": {
      "text/plain": [
       "str"
      ]
     },
     "execution_count": 54,
     "metadata": {},
     "output_type": "execute_result"
    }
   ],
   "source": [
    "type('ABD')"
   ]
  },
  {
   "cell_type": "code",
   "execution_count": 51,
   "metadata": {},
   "outputs": [
    {
     "data": {
      "text/plain": [
       "8"
      ]
     },
     "execution_count": 51,
     "metadata": {},
     "output_type": "execute_result"
    }
   ],
   "source": [
    "diamond.goal"
   ]
  },
  {
   "cell_type": "code",
   "execution_count": 45,
   "metadata": {},
   "outputs": [],
   "source": [
    "windows = swv(a, (3,3))"
   ]
  },
  {
   "cell_type": "code",
   "execution_count": 46,
   "metadata": {},
   "outputs": [
    {
     "data": {
      "text/plain": [
       "array([[[0, 5, 2],\n",
       "        [0, 0, 0],\n",
       "        [1, 2, 1],\n",
       "        [0, 0, 0],\n",
       "        [5, 4, 2],\n",
       "        [0, 0, 0],\n",
       "        [3, 2, 3]],\n",
       "\n",
       "       [[0, 0, 0],\n",
       "        [5, 2, 1],\n",
       "        [0, 0, 0],\n",
       "        [2, 1, 1],\n",
       "        [0, 0, 0],\n",
       "        [4, 2, 2],\n",
       "        [0, 0, 0]],\n",
       "\n",
       "       [[4, 2, 1],\n",
       "        [0, 0, 0],\n",
       "        [2, 1, 3],\n",
       "        [0, 0, 0],\n",
       "        [1, 1, 1],\n",
       "        [0, 0, 0],\n",
       "        [2, 2, 0]]], dtype=uint8)"
      ]
     },
     "execution_count": 46,
     "metadata": {},
     "output_type": "execute_result"
    }
   ],
   "source": [
    "diagonals = np.diagonal(windows, axis1=-2, axis2=-1)\n",
    "diagonals"
   ]
  },
  {
   "cell_type": "code",
   "execution_count": 47,
   "metadata": {},
   "outputs": [
    {
     "data": {
      "text/plain": [
       "array([[[1, 5, 4],\n",
       "        [0, 0, 0],\n",
       "        [5, 2, 2],\n",
       "        [0, 0, 0],\n",
       "        [3, 4, 1],\n",
       "        [0, 0, 0],\n",
       "        [0, 2, 2]],\n",
       "\n",
       "       [[0, 0, 0],\n",
       "        [2, 2, 2],\n",
       "        [0, 0, 0],\n",
       "        [4, 1, 1],\n",
       "        [0, 0, 0],\n",
       "        [2, 2, 1],\n",
       "        [0, 0, 0]],\n",
       "\n",
       "       [[2, 2, 0],\n",
       "        [0, 0, 0],\n",
       "        [1, 1, 1],\n",
       "        [0, 0, 0],\n",
       "        [2, 1, 3],\n",
       "        [0, 0, 0],\n",
       "        [3, 2, 1]]], dtype=uint8)"
      ]
     },
     "execution_count": 47,
     "metadata": {},
     "output_type": "execute_result"
    }
   ],
   "source": [
    "anti_diagonals = np.diagonal(windows[..., ::-1], axis1=-2, axis2=-1)\n",
    "anti_diagonals"
   ]
  },
  {
   "cell_type": "code",
   "execution_count": 37,
   "metadata": {},
   "outputs": [
    {
     "data": {
      "text/plain": [
       "array([[1, 2, 1],\n",
       "       [5, 4, 2],\n",
       "       [3, 2, 3],\n",
       "       [5, 2, 1],\n",
       "       [2, 1, 1],\n",
       "       [4, 2, 2],\n",
       "       [4, 2, 1],\n",
       "       [2, 1, 3],\n",
       "       [1, 1, 1],\n",
       "       [1, 5, 4],\n",
       "       [5, 2, 2],\n",
       "       [3, 4, 1],\n",
       "       [2, 2, 2],\n",
       "       [4, 1, 1],\n",
       "       [2, 2, 1],\n",
       "       [1, 1, 1],\n",
       "       [2, 1, 3],\n",
       "       [3, 2, 1]])"
      ]
     },
     "execution_count": 37,
     "metadata": {},
     "output_type": "execute_result"
    }
   ],
   "source": [
    "diags = np.vstack([\n",
    "    diagonals.reshape(-1,3),\n",
    "    anti_diagonals.reshape(-1,3)\n",
    "]).tolist()\n",
    "diags = np.array([d for d in diags if not 0 in d])\n",
    "diags"
   ]
  },
  {
   "cell_type": "code",
   "execution_count": 42,
   "metadata": {},
   "outputs": [
    {
     "data": {
      "text/plain": [
       "8"
      ]
     },
     "execution_count": 42,
     "metadata": {},
     "output_type": "execute_result"
    }
   ],
   "source": [
    "np.random.choice(diags.sum(axis=1))"
   ]
  },
  {
   "cell_type": "code",
   "execution_count": null,
   "metadata": {},
   "outputs": [],
   "source": []
  },
  {
   "cell_type": "code",
   "execution_count": null,
   "metadata": {},
   "outputs": [],
   "source": []
  }
 ],
 "metadata": {
  "kernelspec": {
   "display_name": "default",
   "language": "python",
   "name": "python3"
  },
  "language_info": {
   "codemirror_mode": {
    "name": "ipython",
    "version": 3
   },
   "file_extension": ".py",
   "mimetype": "text/x-python",
   "name": "python",
   "nbconvert_exporter": "python",
   "pygments_lexer": "ipython3",
   "version": "3.10.12"
  }
 },
 "nbformat": 4,
 "nbformat_minor": 2
}
